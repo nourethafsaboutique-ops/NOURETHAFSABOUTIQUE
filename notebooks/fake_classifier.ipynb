{
  "cells": [
    {
      "cell_type": "markdown",
      "metadata": {
        "id": "view-in-github",
        "colab_type": "text"
      },
      "source": [
        "<a href=\"https://colab.research.google.com/github/nourethafsaboutique-ops/NOURETHAFSABOUTIQUE/blob/main/notebooks/fake_classifier.ipynb\" target=\"_parent\"><img src=\"https://colab.research.google.com/assets/colab-badge.svg\" alt=\"Open In Colab\"/></a>"
      ]
    },
    {
      "cell_type": "code",
      "execution_count": null,
      "id": "decdbf09",
      "metadata": {
        "id": "decdbf09",
        "outputId": "31def7a9-10a3-4831-e0c2-948b70f1494d",
        "colab": {
          "base_uri": "https://localhost:8080/"
        }
      },
      "outputs": [
        {
          "output_type": "stream",
          "name": "stdout",
          "text": [
            "  Installing build dependencies ... \u001b[?25l\u001b[?25hdone\n",
            "  Getting requirements to build wheel ... \u001b[?25l\u001b[?25hdone\n",
            "  Preparing metadata (pyproject.toml) ... \u001b[?25l\u001b[?25hdone\n",
            "\u001b[2K     \u001b[90m━━━━━━━━━━━━━━━━━━━━━━━━━━━━━━━━━━━━━━━━\u001b[0m \u001b[32m3.7/3.7 MB\u001b[0m \u001b[31m31.9 MB/s\u001b[0m eta \u001b[36m0:00:00\u001b[0m\n",
            "\u001b[?25h  Preparing metadata (setup.py) ... \u001b[?25l\u001b[?25hdone\n",
            "\u001b[2K   \u001b[90m━━━━━━━━━━━━━━━━━━━━━━━━━━━━━━━━━━━━━━━━\u001b[0m \u001b[32m139.3/139.3 kB\u001b[0m \u001b[31m8.8 MB/s\u001b[0m eta \u001b[36m0:00:00\u001b[0m\n",
            "\u001b[2K   \u001b[90m━━━━━━━━━━━━━━━━━━━━━━━━━━━━━━━━━━━━━━━━\u001b[0m \u001b[32m14.1/14.1 MB\u001b[0m \u001b[31m99.7 MB/s\u001b[0m eta \u001b[36m0:00:00\u001b[0m\n",
            "\u001b[2K   \u001b[90m━━━━━━━━━━━━━━━━━━━━━━━━━━━━━━━━━━━━━━━━\u001b[0m \u001b[32m85.7/85.7 kB\u001b[0m \u001b[31m4.8 MB/s\u001b[0m eta \u001b[36m0:00:00\u001b[0m\n",
            "\u001b[?25h  Building wheel for suno-bark (pyproject.toml) ... \u001b[?25l\u001b[?25hdone\n",
            "  Building wheel for encodec (setup.py) ... \u001b[?25l\u001b[?25hdone\n"
          ]
        }
      ],
      "source": [
        "# 🔹 STEP 1: Installer Bark\n",
        "!pip install git+https://github.com/suno-ai/bark.git -q\n",
        "!pip install soundfile -q\n",
        "\n",
        "# 🔹 STEP 2: Importer les modules nécessaires\n",
        "from bark import SAMPLE_RATE, generate_audio, preload_models\n",
        "import torch, numpy as np\n",
        "\n",
        "# ✅ Correctif pour PyTorch 2.6+ et NumPy ≥ 2.0\n",
        "torch.serialization.add_safe_globals([np._core.multiarray.scalar])\n",
        "\n",
        "# 🔹 STEP 3: Charger les modèles Bark\n",
        "preload_models()\n",
        "\n",
        "# 🔹 STEP 4: Générer de l’audio\n",
        "text = \"Bonjour, je suis Bark, un modèle de génération de voix en français.\"\n",
        "audio_array = generate_audio(text)\n",
        "\n",
        "# 🔹 STEP 5: Sauvegarder l’audio\n",
        "import soundfile as sf\n",
        "sf.write(\"bark_output.wav\", audio_array, SAMPLE_RATE)\n",
        "\n",
        "print(\"✅ Audio généré avec succès : bark_output.wav\")\n",
        "\n"
      ]
    },
    {
      "cell_type": "code",
      "source": [
        "!pip install torch==2.5.1 torchvision==0.20.1 torchaudio==2.5.1 --force-reinstall\n",
        "\n"
      ],
      "metadata": {
        "id": "ZqfFPDNUOFwG"
      },
      "id": "ZqfFPDNUOFwG",
      "execution_count": null,
      "outputs": []
    }
  ],
  "metadata": {
    "kernelspec": {
      "display_name": "Python 3 (ipykernel)",
      "language": "python",
      "name": "python3"
    },
    "language_info": {
      "codemirror_mode": {
        "name": "ipython",
        "version": 3
      },
      "file_extension": ".py",
      "mimetype": "text/x-python",
      "name": "python",
      "nbconvert_exporter": "python",
      "pygments_lexer": "ipython3",
      "version": "3.8.15"
    },
    "colab": {
      "provenance": [],
      "include_colab_link": true
    }
  },
  "nbformat": 4,
  "nbformat_minor": 5
}